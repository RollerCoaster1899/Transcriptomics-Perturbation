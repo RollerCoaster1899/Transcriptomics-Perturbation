{
 "cells": [
  {
   "cell_type": "code",
   "execution_count": 1,
   "id": "49c3d6ae-720c-4456-b702-e6b77b17ec41",
   "metadata": {},
   "outputs": [],
   "source": [
    "!pip install pandas\n",
    "!pip install rdkit  \n",
    "!pip install scikit-learn\n",
    "!pip install tensorflow\n",
    "from IPython.display import clear_output\n",
    "clear_output()"
   ]
  },
  {
   "cell_type": "code",
   "execution_count": 2,
   "id": "ab748218-0791-48f3-b366-94f36255e179",
   "metadata": {},
   "outputs": [],
   "source": [
    "import pandas as pd\n",
    "import numpy as np\n",
    "import pandas as pd\n",
    "from rdkit import Chem\n",
    "from rdkit.Chem import AllChem"
   ]
  },
  {
   "cell_type": "code",
   "execution_count": 3,
   "id": "3e3a4c30-081b-43c8-a023-aa2de71d766a",
   "metadata": {},
   "outputs": [],
   "source": [
    "# Import and check X and Y matrix"
   ]
  },
  {
   "cell_type": "code",
   "execution_count": 3,
   "id": "6c8c6b3e-f65f-4a4b-aa51-f821f69905fe",
   "metadata": {},
   "outputs": [],
   "source": [
    "# Download file from https://drive.google.com/file/d/1V6gDAZvJKbWW43GSi6qg6VLjS2AuRSeR/view?usp=sharing as is bigger than 25 MB\n",
    "df = pd.read_csv(\"X-cell-dose-time-smiles.csv\")"
   ]
  },
  {
   "cell_type": "code",
   "execution_count": 4,
   "id": "c196d3ae-9876-4b78-b1bb-3da71bb4c597",
   "metadata": {},
   "outputs": [
    {
     "data": {
      "text/plain": [
       "(126427, 953)"
      ]
     },
     "execution_count": 4,
     "metadata": {},
     "output_type": "execute_result"
    }
   ],
   "source": [
    "X = df.drop(df.columns[0], axis=1)\n",
    "X.shape"
   ]
  },
  {
   "cell_type": "code",
   "execution_count": 5,
   "id": "694557e6-63f0-4038-bef3-4f0da052476f",
   "metadata": {},
   "outputs": [],
   "source": [
    "# Download file from https://drive.google.com/file/d/1iAAKrztJQ-fi9CWUVXy5w6_OZL-BfZeF/view?usp=sharing as is bigger than 25 MB\n",
    "df1 = pd.read_csv(\"Y-Gene_perturbation_info.csv\")"
   ]
  },
  {
   "cell_type": "code",
   "execution_count": 6,
   "id": "255e7cbb-0c85-4979-aec2-6a74903dec26",
   "metadata": {},
   "outputs": [
    {
     "data": {
      "text/plain": [
       "(126427, 978)"
      ]
     },
     "execution_count": 6,
     "metadata": {},
     "output_type": "execute_result"
    }
   ],
   "source": [
    "Y = df1.drop(df1.columns[0], axis=1)\n",
    "Y.shape"
   ]
  },
  {
   "cell_type": "code",
   "execution_count": 8,
   "id": "4a79eacf-2613-479b-ad8c-57cdf6ab73ed",
   "metadata": {},
   "outputs": [],
   "source": [
    "# Entrenamiento de la red neuronal"
   ]
  },
  {
   "cell_type": "code",
   "execution_count": 7,
   "id": "131aed34-45ae-4c55-8ed6-42d0f44fe9b8",
   "metadata": {},
   "outputs": [
    {
     "name": "stdout",
     "output_type": "stream",
     "text": [
      "x_train shape: (101141, 953)\n",
      "y_train shape: (101141, 978)\n",
      "x_test shape: (25286, 953)\n",
      "y_test shape: (25286, 978)\n"
     ]
    }
   ],
   "source": [
    "from sklearn.model_selection import train_test_split\n",
    "\n",
    "# Split data into training and test sets\n",
    "x_train, x_test, y_train, y_test = train_test_split(X, Y, test_size=0.2, random_state=42)\n",
    "\n",
    "# Print the shapes of the resulting arrays\n",
    "print(\"x_train shape:\", x_train.shape)\n",
    "print(\"y_train shape:\", y_train.shape)\n",
    "print(\"x_test shape:\", x_test.shape)\n",
    "print(\"y_test shape:\", y_test.shape)"
   ]
  },
  {
   "cell_type": "code",
   "execution_count": 8,
   "id": "54356ae9-4f3b-42b0-bdee-cf61258a22a6",
   "metadata": {},
   "outputs": [
    {
     "name": "stdout",
     "output_type": "stream",
     "text": [
      "Epoch 1/10\n",
      "3161/3161 [==============================] - 11s 3ms/step - loss: 1.3939\n",
      "Epoch 2/10\n",
      "3161/3161 [==============================] - 10s 3ms/step - loss: 1.3878\n",
      "Epoch 3/10\n",
      "3161/3161 [==============================] - 10s 3ms/step - loss: 1.3875\n",
      "Epoch 4/10\n",
      "3161/3161 [==============================] - 10s 3ms/step - loss: 1.3875\n",
      "Epoch 5/10\n",
      "3161/3161 [==============================] - 10s 3ms/step - loss: 1.3875\n",
      "Epoch 6/10\n",
      "3161/3161 [==============================] - 10s 3ms/step - loss: 1.3875\n",
      "Epoch 7/10\n",
      "3161/3161 [==============================] - 10s 3ms/step - loss: 1.3875\n",
      "Epoch 8/10\n",
      "3161/3161 [==============================] - 10s 3ms/step - loss: 1.3876\n",
      "Epoch 9/10\n",
      "3161/3161 [==============================] - 10s 3ms/step - loss: 1.3875\n",
      "Epoch 10/10\n",
      "3161/3161 [==============================] - 10s 3ms/step - loss: 1.3875\n"
     ]
    }
   ],
   "source": [
    "import tensorflow as tf\n",
    "\n",
    "# Define the input shape\n",
    "input_shape = (953,)\n",
    "\n",
    "# Define the model architecture\n",
    "model = tf.keras.Sequential([\n",
    "    tf.keras.layers.Dense(256, activation='linear', input_shape=input_shape),\n",
    "    tf.keras.layers.Dropout(0.5),\n",
    "    tf.keras.layers.Dense(128, activation='relu'),\n",
    "    tf.keras.layers.Dropout(0.5),\n",
    "    tf.keras.layers.Dense(128, activation='linear'),\n",
    "    tf.keras.layers.Dropout(0.5),\n",
    "    tf.keras.layers.Dropout(0.5),\n",
    "    tf.keras.layers.Dense(128, activation='relu'),\n",
    "    tf.keras.layers.Dropout(0.5),\n",
    "    tf.keras.layers.Dense(128, activation='linear'),\n",
    "    tf.keras.layers.Dropout(0.5),\n",
    "    tf.keras.layers.Dense(978)\n",
    "])\n",
    "\n",
    "# Compile the model\n",
    "model.compile(optimizer='adam', loss='mse')\n",
    "\n",
    "# Train the model on your data\n",
    "clear_output()\n",
    "model.fit(x_train, y_train, epochs=10)\n",
    "\n",
    "model.save('my_model.h5')"
   ]
  },
  {
   "cell_type": "code",
   "execution_count": 9,
   "id": "029c9cb8-2f60-46bc-a74f-5d6797051677",
   "metadata": {},
   "outputs": [
    {
     "name": "stdout",
     "output_type": "stream",
     "text": [
      "791/791 [==============================] - 1s 1ms/step\n",
      "R^2 score: -0.00017104681372630853\n",
      "Mean Squared Error: 1.3736508402926426\n"
     ]
    }
   ],
   "source": [
    "# predict on test data\n",
    "y_pred = model.predict(x_test)\n",
    "\n",
    "# evaluate performance\n",
    "from sklearn.metrics import r2_score, mean_squared_error\n",
    "\n",
    "r2 = r2_score(y_test, y_pred)\n",
    "mse = mean_squared_error(y_test, y_pred)\n",
    "\n",
    "print('R^2 score:', r2)\n",
    "print('Mean Squared Error:', mse)"
   ]
  },
  {
   "cell_type": "code",
   "execution_count": 10,
   "id": "ea2cd657-51ca-43eb-a927-af967c401502",
   "metadata": {},
   "outputs": [
    {
     "data": {
      "text/html": [
       "<div>\n",
       "<style scoped>\n",
       "    .dataframe tbody tr th:only-of-type {\n",
       "        vertical-align: middle;\n",
       "    }\n",
       "\n",
       "    .dataframe tbody tr th {\n",
       "        vertical-align: top;\n",
       "    }\n",
       "\n",
       "    .dataframe thead th {\n",
       "        text-align: right;\n",
       "    }\n",
       "</style>\n",
       "<table border=\"1\" class=\"dataframe\">\n",
       "  <thead>\n",
       "    <tr style=\"text-align: right;\">\n",
       "      <th></th>\n",
       "      <th>PSME1</th>\n",
       "      <th>ATF1</th>\n",
       "      <th>RHEB</th>\n",
       "      <th>FOXO3</th>\n",
       "      <th>RHOA</th>\n",
       "      <th>IL1B</th>\n",
       "      <th>ASAH1</th>\n",
       "      <th>RALA</th>\n",
       "      <th>ARHGEF12</th>\n",
       "      <th>SOX2</th>\n",
       "      <th>...</th>\n",
       "      <th>CCP110</th>\n",
       "      <th>STK10</th>\n",
       "      <th>UGDH</th>\n",
       "      <th>SQRDL</th>\n",
       "      <th>HEBP1</th>\n",
       "      <th>ATP11B</th>\n",
       "      <th>CD320</th>\n",
       "      <th>MLLT11</th>\n",
       "      <th>CEBPZ</th>\n",
       "      <th>CBR3</th>\n",
       "    </tr>\n",
       "  </thead>\n",
       "  <tbody>\n",
       "    <tr>\n",
       "      <th>91852</th>\n",
       "      <td>-0.257553</td>\n",
       "      <td>-0.308202</td>\n",
       "      <td>0.447690</td>\n",
       "      <td>-0.365075</td>\n",
       "      <td>1.238440</td>\n",
       "      <td>0.189453</td>\n",
       "      <td>0.607857</td>\n",
       "      <td>0.856236</td>\n",
       "      <td>0.170874</td>\n",
       "      <td>-1.323280</td>\n",
       "      <td>...</td>\n",
       "      <td>0.971347</td>\n",
       "      <td>0.508268</td>\n",
       "      <td>-0.164958</td>\n",
       "      <td>0.136233</td>\n",
       "      <td>-0.441759</td>\n",
       "      <td>-0.222421</td>\n",
       "      <td>-0.185993</td>\n",
       "      <td>0.261571</td>\n",
       "      <td>-0.034908</td>\n",
       "      <td>0.397298</td>\n",
       "    </tr>\n",
       "    <tr>\n",
       "      <th>109925</th>\n",
       "      <td>-0.525000</td>\n",
       "      <td>-0.383950</td>\n",
       "      <td>0.288350</td>\n",
       "      <td>0.133850</td>\n",
       "      <td>-0.210000</td>\n",
       "      <td>-1.424450</td>\n",
       "      <td>0.325050</td>\n",
       "      <td>-2.987300</td>\n",
       "      <td>-0.497250</td>\n",
       "      <td>-2.240750</td>\n",
       "      <td>...</td>\n",
       "      <td>-0.140300</td>\n",
       "      <td>-0.888150</td>\n",
       "      <td>-0.729600</td>\n",
       "      <td>0.419750</td>\n",
       "      <td>-0.409350</td>\n",
       "      <td>0.446700</td>\n",
       "      <td>-0.687250</td>\n",
       "      <td>0.444050</td>\n",
       "      <td>0.159650</td>\n",
       "      <td>-0.197800</td>\n",
       "    </tr>\n",
       "    <tr>\n",
       "      <th>97336</th>\n",
       "      <td>0.607933</td>\n",
       "      <td>0.096500</td>\n",
       "      <td>0.743300</td>\n",
       "      <td>0.474800</td>\n",
       "      <td>0.679300</td>\n",
       "      <td>0.668767</td>\n",
       "      <td>0.997700</td>\n",
       "      <td>-1.378767</td>\n",
       "      <td>-0.437733</td>\n",
       "      <td>1.037100</td>\n",
       "      <td>...</td>\n",
       "      <td>0.495433</td>\n",
       "      <td>-1.541167</td>\n",
       "      <td>-0.334500</td>\n",
       "      <td>0.195700</td>\n",
       "      <td>0.812900</td>\n",
       "      <td>0.169600</td>\n",
       "      <td>-0.551533</td>\n",
       "      <td>-0.135800</td>\n",
       "      <td>0.048133</td>\n",
       "      <td>-3.106700</td>\n",
       "    </tr>\n",
       "    <tr>\n",
       "      <th>46079</th>\n",
       "      <td>0.621074</td>\n",
       "      <td>0.562777</td>\n",
       "      <td>0.309354</td>\n",
       "      <td>0.309039</td>\n",
       "      <td>-1.027868</td>\n",
       "      <td>-0.689149</td>\n",
       "      <td>-0.269707</td>\n",
       "      <td>-0.023471</td>\n",
       "      <td>0.417617</td>\n",
       "      <td>-0.769685</td>\n",
       "      <td>...</td>\n",
       "      <td>-0.682302</td>\n",
       "      <td>-0.618746</td>\n",
       "      <td>0.769664</td>\n",
       "      <td>3.233439</td>\n",
       "      <td>0.286190</td>\n",
       "      <td>-0.454587</td>\n",
       "      <td>0.262825</td>\n",
       "      <td>0.417556</td>\n",
       "      <td>-0.588584</td>\n",
       "      <td>-0.897042</td>\n",
       "    </tr>\n",
       "    <tr>\n",
       "      <th>97131</th>\n",
       "      <td>0.483270</td>\n",
       "      <td>-0.402979</td>\n",
       "      <td>0.317080</td>\n",
       "      <td>-0.307975</td>\n",
       "      <td>-0.899189</td>\n",
       "      <td>0.067057</td>\n",
       "      <td>4.168883</td>\n",
       "      <td>0.459159</td>\n",
       "      <td>0.026652</td>\n",
       "      <td>0.156858</td>\n",
       "      <td>...</td>\n",
       "      <td>0.841171</td>\n",
       "      <td>-0.060790</td>\n",
       "      <td>0.278735</td>\n",
       "      <td>2.946196</td>\n",
       "      <td>-0.207148</td>\n",
       "      <td>0.791576</td>\n",
       "      <td>-0.301359</td>\n",
       "      <td>-0.106915</td>\n",
       "      <td>-0.331284</td>\n",
       "      <td>-0.091020</td>\n",
       "    </tr>\n",
       "    <tr>\n",
       "      <th>...</th>\n",
       "      <td>...</td>\n",
       "      <td>...</td>\n",
       "      <td>...</td>\n",
       "      <td>...</td>\n",
       "      <td>...</td>\n",
       "      <td>...</td>\n",
       "      <td>...</td>\n",
       "      <td>...</td>\n",
       "      <td>...</td>\n",
       "      <td>...</td>\n",
       "      <td>...</td>\n",
       "      <td>...</td>\n",
       "      <td>...</td>\n",
       "      <td>...</td>\n",
       "      <td>...</td>\n",
       "      <td>...</td>\n",
       "      <td>...</td>\n",
       "      <td>...</td>\n",
       "      <td>...</td>\n",
       "      <td>...</td>\n",
       "      <td>...</td>\n",
       "    </tr>\n",
       "    <tr>\n",
       "      <th>43565</th>\n",
       "      <td>-0.744886</td>\n",
       "      <td>-0.179236</td>\n",
       "      <td>-0.609220</td>\n",
       "      <td>0.708230</td>\n",
       "      <td>-0.723188</td>\n",
       "      <td>0.805668</td>\n",
       "      <td>-1.454345</td>\n",
       "      <td>-0.598133</td>\n",
       "      <td>0.468775</td>\n",
       "      <td>0.570876</td>\n",
       "      <td>...</td>\n",
       "      <td>-0.004061</td>\n",
       "      <td>0.404493</td>\n",
       "      <td>-1.174938</td>\n",
       "      <td>0.023769</td>\n",
       "      <td>0.889078</td>\n",
       "      <td>0.349189</td>\n",
       "      <td>-0.422793</td>\n",
       "      <td>-0.204790</td>\n",
       "      <td>-0.729754</td>\n",
       "      <td>-1.166047</td>\n",
       "    </tr>\n",
       "    <tr>\n",
       "      <th>105692</th>\n",
       "      <td>-0.554508</td>\n",
       "      <td>0.497856</td>\n",
       "      <td>0.275676</td>\n",
       "      <td>-0.809560</td>\n",
       "      <td>0.309717</td>\n",
       "      <td>0.210511</td>\n",
       "      <td>0.074551</td>\n",
       "      <td>-1.689906</td>\n",
       "      <td>0.842565</td>\n",
       "      <td>1.714748</td>\n",
       "      <td>...</td>\n",
       "      <td>0.634091</td>\n",
       "      <td>0.178863</td>\n",
       "      <td>1.308125</td>\n",
       "      <td>-0.802670</td>\n",
       "      <td>1.302819</td>\n",
       "      <td>-0.610431</td>\n",
       "      <td>-1.670171</td>\n",
       "      <td>0.550819</td>\n",
       "      <td>-0.036116</td>\n",
       "      <td>-0.982778</td>\n",
       "    </tr>\n",
       "    <tr>\n",
       "      <th>28260</th>\n",
       "      <td>-1.329650</td>\n",
       "      <td>-1.620200</td>\n",
       "      <td>-1.244600</td>\n",
       "      <td>0.188750</td>\n",
       "      <td>-0.698850</td>\n",
       "      <td>-0.482050</td>\n",
       "      <td>-1.039650</td>\n",
       "      <td>-0.212750</td>\n",
       "      <td>0.907100</td>\n",
       "      <td>0.301050</td>\n",
       "      <td>...</td>\n",
       "      <td>-0.994950</td>\n",
       "      <td>0.273250</td>\n",
       "      <td>1.566700</td>\n",
       "      <td>-0.283400</td>\n",
       "      <td>-0.163950</td>\n",
       "      <td>0.427500</td>\n",
       "      <td>0.575200</td>\n",
       "      <td>-0.815550</td>\n",
       "      <td>-0.504400</td>\n",
       "      <td>-0.278600</td>\n",
       "    </tr>\n",
       "    <tr>\n",
       "      <th>76074</th>\n",
       "      <td>-1.249650</td>\n",
       "      <td>0.370300</td>\n",
       "      <td>0.770350</td>\n",
       "      <td>-0.011700</td>\n",
       "      <td>1.913550</td>\n",
       "      <td>0.248650</td>\n",
       "      <td>-0.942200</td>\n",
       "      <td>0.604100</td>\n",
       "      <td>-0.300750</td>\n",
       "      <td>0.856400</td>\n",
       "      <td>...</td>\n",
       "      <td>-1.142300</td>\n",
       "      <td>0.655700</td>\n",
       "      <td>0.235700</td>\n",
       "      <td>4.030000</td>\n",
       "      <td>2.419000</td>\n",
       "      <td>0.308500</td>\n",
       "      <td>-0.339300</td>\n",
       "      <td>-1.200600</td>\n",
       "      <td>-0.874100</td>\n",
       "      <td>1.065350</td>\n",
       "    </tr>\n",
       "    <tr>\n",
       "      <th>8642</th>\n",
       "      <td>-0.364650</td>\n",
       "      <td>-2.322200</td>\n",
       "      <td>-0.337700</td>\n",
       "      <td>1.096650</td>\n",
       "      <td>-1.027350</td>\n",
       "      <td>1.401700</td>\n",
       "      <td>-1.381600</td>\n",
       "      <td>-0.598450</td>\n",
       "      <td>-0.303600</td>\n",
       "      <td>1.580700</td>\n",
       "      <td>...</td>\n",
       "      <td>-0.280150</td>\n",
       "      <td>0.828900</td>\n",
       "      <td>-1.172600</td>\n",
       "      <td>-1.029150</td>\n",
       "      <td>-0.961200</td>\n",
       "      <td>0.400350</td>\n",
       "      <td>0.637750</td>\n",
       "      <td>0.645850</td>\n",
       "      <td>1.055550</td>\n",
       "      <td>-0.918850</td>\n",
       "    </tr>\n",
       "  </tbody>\n",
       "</table>\n",
       "<p>25286 rows × 978 columns</p>\n",
       "</div>"
      ],
      "text/plain": [
       "           PSME1      ATF1      RHEB     FOXO3      RHOA      IL1B     ASAH1   \n",
       "91852  -0.257553 -0.308202  0.447690 -0.365075  1.238440  0.189453  0.607857  \\\n",
       "109925 -0.525000 -0.383950  0.288350  0.133850 -0.210000 -1.424450  0.325050   \n",
       "97336   0.607933  0.096500  0.743300  0.474800  0.679300  0.668767  0.997700   \n",
       "46079   0.621074  0.562777  0.309354  0.309039 -1.027868 -0.689149 -0.269707   \n",
       "97131   0.483270 -0.402979  0.317080 -0.307975 -0.899189  0.067057  4.168883   \n",
       "...          ...       ...       ...       ...       ...       ...       ...   \n",
       "43565  -0.744886 -0.179236 -0.609220  0.708230 -0.723188  0.805668 -1.454345   \n",
       "105692 -0.554508  0.497856  0.275676 -0.809560  0.309717  0.210511  0.074551   \n",
       "28260  -1.329650 -1.620200 -1.244600  0.188750 -0.698850 -0.482050 -1.039650   \n",
       "76074  -1.249650  0.370300  0.770350 -0.011700  1.913550  0.248650 -0.942200   \n",
       "8642   -0.364650 -2.322200 -0.337700  1.096650 -1.027350  1.401700 -1.381600   \n",
       "\n",
       "            RALA  ARHGEF12      SOX2  ...    CCP110     STK10      UGDH   \n",
       "91852   0.856236  0.170874 -1.323280  ...  0.971347  0.508268 -0.164958  \\\n",
       "109925 -2.987300 -0.497250 -2.240750  ... -0.140300 -0.888150 -0.729600   \n",
       "97336  -1.378767 -0.437733  1.037100  ...  0.495433 -1.541167 -0.334500   \n",
       "46079  -0.023471  0.417617 -0.769685  ... -0.682302 -0.618746  0.769664   \n",
       "97131   0.459159  0.026652  0.156858  ...  0.841171 -0.060790  0.278735   \n",
       "...          ...       ...       ...  ...       ...       ...       ...   \n",
       "43565  -0.598133  0.468775  0.570876  ... -0.004061  0.404493 -1.174938   \n",
       "105692 -1.689906  0.842565  1.714748  ...  0.634091  0.178863  1.308125   \n",
       "28260  -0.212750  0.907100  0.301050  ... -0.994950  0.273250  1.566700   \n",
       "76074   0.604100 -0.300750  0.856400  ... -1.142300  0.655700  0.235700   \n",
       "8642   -0.598450 -0.303600  1.580700  ... -0.280150  0.828900 -1.172600   \n",
       "\n",
       "           SQRDL     HEBP1    ATP11B     CD320    MLLT11     CEBPZ      CBR3  \n",
       "91852   0.136233 -0.441759 -0.222421 -0.185993  0.261571 -0.034908  0.397298  \n",
       "109925  0.419750 -0.409350  0.446700 -0.687250  0.444050  0.159650 -0.197800  \n",
       "97336   0.195700  0.812900  0.169600 -0.551533 -0.135800  0.048133 -3.106700  \n",
       "46079   3.233439  0.286190 -0.454587  0.262825  0.417556 -0.588584 -0.897042  \n",
       "97131   2.946196 -0.207148  0.791576 -0.301359 -0.106915 -0.331284 -0.091020  \n",
       "...          ...       ...       ...       ...       ...       ...       ...  \n",
       "43565   0.023769  0.889078  0.349189 -0.422793 -0.204790 -0.729754 -1.166047  \n",
       "105692 -0.802670  1.302819 -0.610431 -1.670171  0.550819 -0.036116 -0.982778  \n",
       "28260  -0.283400 -0.163950  0.427500  0.575200 -0.815550 -0.504400 -0.278600  \n",
       "76074   4.030000  2.419000  0.308500 -0.339300 -1.200600 -0.874100  1.065350  \n",
       "8642   -1.029150 -0.961200  0.400350  0.637750  0.645850  1.055550 -0.918850  \n",
       "\n",
       "[25286 rows x 978 columns]"
      ]
     },
     "execution_count": 10,
     "metadata": {},
     "output_type": "execute_result"
    }
   ],
   "source": [
    "y_test"
   ]
  },
  {
   "cell_type": "code",
   "execution_count": 11,
   "id": "933af386-4932-466c-9e51-9667af5efdc0",
   "metadata": {},
   "outputs": [
    {
     "data": {
      "image/png": "[encoded data removed]",
      "text/plain": [
       "<Figure size 640x480 with 1 Axes>"
      ]
     },
     "metadata": {},
     "output_type": "display_data"
    }
   ],
   "source": [
    "import matplotlib.pyplot as plt\n",
    "\n",
    "plt.scatter(y_test, y_pred)\n",
    "plt.xlabel('True Values')\n",
    "plt.ylabel('Predictions')\n",
    "plt.show()"
   ]
  },
  {
   "cell_type": "code",
   "execution_count": null,
   "id": "c689ffd9-77b2-40c3-a45d-1ff1d4be7bb5",
   "metadata": {},
   "outputs": [],
   "source": [
    "# Load and Predict "
   ]
  },
  {
   "cell_type": "code",
   "execution_count": null,
   "id": "f07e259e-60f5-47dd-a4bd-6c798bee4165",
   "metadata": {},
   "outputs": [],
   "source": [
    "from tensorflow.keras.models import load_model\n",
    "\n",
    "model = load_model('my_model.h5')"
   ]
  },
  {
   "cell_type": "code",
   "execution_count": null,
   "id": "89fa95f0-5fc6-4292-b12c-6380bac51a19",
   "metadata": {
    "tags": []
   },
   "outputs": [],
   "source": [
    "# Create a way to generate entrance\n",
    "df2 = pd.read_csv(\"X-Cell_line_OneHotEncoder.csv\")\n",
    "df2 = df2.drop(df2.columns[0], axis=1)"
   ]
  },
  {
   "cell_type": "code",
   "execution_count": null,
   "id": "291c0d73-5368-4fad-9093-ae09b2dacc82",
   "metadata": {},
   "outputs": [],
   "source": [
    "# Lineas celulares para la simulación de prueba\n",
    "# ['A375', 'A549', 'A673', 'AGS', 'ASC', 'BT20', 'CD34', 'CL34', 'CORL23', 'COV644', 'DV90', 'EFO27', 'FIBRNPC', 'H1299', 'HA1E', 'HCC15', 'HCC515',\n",
    "#  'HCT116', 'HEC108', 'HEK293T', 'HEPG2', 'HL60', 'HS27A', 'HS578T', 'HT115', 'HT29', 'HUH7', 'JHUEM2', 'JURKAT', 'LOVO', 'MCF10A', 'MCF7', 'MDAMB231',\n",
    "#  'MDST8', 'NCIH1694', 'NCIH1836', 'NCIH2073', 'NCIH508', 'NCIH596', 'NEU', 'NKDBA', 'NOMO1', 'NPC', 'OV7', 'PC3', 'PHH', 'PL21', 'RKO', 'RMGI', 'RMUGS',\n",
    "#  'SKB', 'SKBR3', 'SKLU1', 'SKM1', 'SKMEL1', 'SKMEL28', 'SNGM', 'SNU1040', 'SNUC4', 'SNUC5', 'SW480', 'SW620', 'SW948', 'T3M10', 'THP1', 'TYKNU', 'U266',\n",
    "#  'U937', 'VCAP', 'WSUDLCL2'],"
   ]
  },
  {
   "cell_type": "code",
   "execution_count": 8,
   "id": "0dba956c-7dda-4d72-b6e4-bf54b954d6ae",
   "metadata": {},
   "outputs": [],
   "source": [
    "# Molécula en formato smiles\n",
    "smiles = 'CCN1CCCC[C@@H]1C(=O)N1C[C@H]2CCC[C@@H]2C1'\n",
    "\n",
    "# Concentración en uM\n",
    "uM_Concentration = 10\n",
    "\n",
    "# Tiempo en horas\n",
    "Hours = 24\n",
    "\n",
    "# Cell Line\n",
    "Cell_Line = str(\"WSUDLCL2\")"
   ]
  },
  {
   "cell_type": "code",
   "execution_count": 9,
   "id": "c642a7d6-115a-4d20-99dc-ea654d9bee0d",
   "metadata": {
    "tags": []
   },
   "outputs": [],
   "source": [
    "# Generación de entry\n",
    "selected_row = df2[df2['category'] == Cell_Line]\n",
    "values = selected_row.iloc[:, 1:72].values\n",
    "entry = pd.DataFrame(values, columns=selected_row.columns[1:72])\n",
    "\n",
    "entry['uM'] = uM_Concentration\n",
    "entry['Hr'] = Hours\n",
    "\n",
    "# convert smiles to RDKit molecule and create MF\n",
    "mol = Chem.MolFromSmiles(smiles)\n",
    "fp = AllChem.GetMorganFingerprintAsBitVect(mol, 2, nBits=881)\n",
    "\n",
    "# convert fingerprint to array\n",
    "fp_array = np.zeros((1,))\n",
    "AllChem.DataStructs.ConvertToNumpyArray(fp, fp_array)\n",
    "\n",
    "# create DataFrame with 1 row and 880 columns\n",
    "fp_df = pd.DataFrame(fp_array.reshape(1, -1))\n",
    "entry = pd.concat([entry, fp_df], axis=1)"
   ]
  },
  {
   "cell_type": "code",
   "execution_count": 40,
   "id": "7da7663f-788d-44a9-af09-48312299f26c",
   "metadata": {},
   "outputs": [
    {
     "name": "stdout",
     "output_type": "stream",
     "text": [
      "1/1 [==============================] - 0s 48ms/step\n"
     ]
    }
   ],
   "source": [
    "# predict on test data\n",
    "y_pred = model.predict(entry)\n",
    "y_pred_1 = pd.DataFrame(y_pred.reshape(1, -1))\n",
    "y_pred_2 = y_pred_1.iloc[:, :784]\n",
    "y_pred_3 = y_pred_2[:784].values"
   ]
  },
  {
   "cell_type": "code",
   "execution_count": 45,
   "id": "888ce145-8d32-41a5-8500-daba4fd1486e",
   "metadata": {},
   "outputs": [
    {
     "data": {
      "image/png": "[encoded data removed]",
      "text/plain": [
       "<Figure size 640x480 with 2 Axes>"
      ]
     },
     "metadata": {},
     "output_type": "display_data"
    }
   ],
   "source": [
    "import numpy as np\n",
    "import matplotlib.pyplot as plt\n",
    "\n",
    "# Assuming you have an array called 'data' of shape (978, 1)\n",
    "# Reshape it to a 31x32 matrix\n",
    "data_matrix = np.reshape(y_pred_3, (28, 28))\n",
    "\n",
    "# Create a heatmap of the data matrix\n",
    "plt.imshow(data_matrix, cmap='coolwarm', vmin=-0.6, vmax=0.6, interpolation='nearest')\n",
    "plt.colorbar()\n",
    "plt.title(\"Gene Perturbation\")\n",
    "plt.show()"
   ]
  }
 ],
 "metadata": {
  "kernelspec": {
   "display_name": "Python 3 (ipykernel)",
   "language": "python",
   "name": "python3"
  },
  "language_info": {
   "codemirror_mode": {
    "name": "ipython",
    "version": 3
   },
   "file_extension": ".py",
   "mimetype": "text/x-python",
   "name": "python",
   "nbconvert_exporter": "python",
   "pygments_lexer": "ipython3",
   "version": "3.10.9"
  }
 },
 "nbformat": 4,
 "nbformat_minor": 5
}
