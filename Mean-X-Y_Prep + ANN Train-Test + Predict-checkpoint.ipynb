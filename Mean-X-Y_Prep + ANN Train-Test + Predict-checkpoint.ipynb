{
 "cells": [
  {
   "cell_type": "code",
   "execution_count": 16,
   "id": "49c3d6ae-720c-4456-b702-e6b77b17ec41",
   "metadata": {},
   "outputs": [],
   "source": [
    "!pip install pandas\n",
    "!pip install rdkit  \n",
    "!pip install scikit-learn\n",
    "!pip install tensorflow\n",
    "from IPython.display import clear_output\n",
    "clear_output()"
   ]
  },
  {
   "cell_type": "code",
   "execution_count": 2,
   "id": "ab748218-0791-48f3-b366-94f36255e179",
   "metadata": {},
   "outputs": [],
   "source": [
    "import pandas as pd\n",
    "import numpy as np\n",
    "import pandas as pd\n",
    "from rdkit import Chem\n",
    "from rdkit.Chem import AllChem"
   ]
  },
  {
   "cell_type": "code",
   "execution_count": 4,
   "id": "3e3a4c30-081b-43c8-a023-aa2de71d766a",
   "metadata": {},
   "outputs": [],
   "source": [
    "# Import and check X and Y matrix"
   ]
  },
  {
   "cell_type": "code",
   "execution_count": 3,
   "id": "6c8c6b3e-f65f-4a4b-aa51-f821f69905fe",
   "metadata": {},
   "outputs": [],
   "source": [
    "df = pd.read_csv(\"X-cell-dose-time-smiles.csv\")"
   ]
  },
  {
   "cell_type": "code",
   "execution_count": 4,
   "id": "c196d3ae-9876-4b78-b1bb-3da71bb4c597",
   "metadata": {},
   "outputs": [
    {
     "data": {
      "text/plain": [
       "(126427, 953)"
      ]
     },
     "execution_count": 4,
     "metadata": {},
     "output_type": "execute_result"
    }
   ],
   "source": [
    "X = df.drop(df.columns[0], axis=1)\n",
    "X.shape"
   ]
  },
  {
   "cell_type": "code",
   "execution_count": 5,
   "id": "694557e6-63f0-4038-bef3-4f0da052476f",
   "metadata": {},
   "outputs": [],
   "source": [
    "df1 = pd.read_csv(\"Y-Gene_perturbation_info.csv\")"
   ]
  },
  {
   "cell_type": "code",
   "execution_count": 6,
   "id": "255e7cbb-0c85-4979-aec2-6a74903dec26",
   "metadata": {},
   "outputs": [
    {
     "data": {
      "text/plain": [
       "(126427, 978)"
      ]
     },
     "execution_count": 6,
     "metadata": {},
     "output_type": "execute_result"
    }
   ],
   "source": [
    "Y = df1.drop(df1.columns[0], axis=1)\n",
    "Y.shape"
   ]
  },
  {
   "cell_type": "code",
   "execution_count": null,
   "id": "4a79eacf-2613-479b-ad8c-57cdf6ab73ed",
   "metadata": {},
   "outputs": [],
   "source": [
    "# Entrenamiento de la red neuronal"
   ]
  },
  {
   "cell_type": "code",
   "execution_count": 11,
   "id": "131aed34-45ae-4c55-8ed6-42d0f44fe9b8",
   "metadata": {},
   "outputs": [
    {
     "name": "stdout",
     "output_type": "stream",
     "text": [
      "x_train shape: (101141, 953)\n",
      "y_train shape: (101141, 978)\n",
      "x_test shape: (25286, 953)\n",
      "y_test shape: (25286, 978)\n"
     ]
    }
   ],
   "source": [
    "from sklearn.model_selection import train_test_split\n",
    "\n",
    "# Split data into training and test sets\n",
    "x_train, x_test, y_train, y_test = train_test_split(X, Y, test_size=0.2, random_state=42)\n",
    "\n",
    "# Print the shapes of the resulting arrays\n",
    "print(\"x_train shape:\", x_train.shape)\n",
    "print(\"y_train shape:\", y_train.shape)\n",
    "print(\"x_test shape:\", x_test.shape)\n",
    "print(\"y_test shape:\", y_test.shape)"
   ]
  },
  {
   "cell_type": "code",
   "execution_count": 17,
   "id": "54356ae9-4f3b-42b0-bdee-cf61258a22a6",
   "metadata": {},
   "outputs": [
    {
     "name": "stderr",
     "output_type": "stream",
     "text": [
      "2023-03-19 14:15:49.348525: W tensorflow/tsl/framework/cpu_allocator_impl.cc:82] Allocation of 771098984 exceeds 10% of free system memory.\n"
     ]
    },
    {
     "name": "stdout",
     "output_type": "stream",
     "text": [
      "Epoch 1/10\n"
     ]
    },
    {
     "name": "stderr",
     "output_type": "stream",
     "text": [
      "2023-03-19 14:15:50.235252: W tensorflow/tsl/framework/cpu_allocator_impl.cc:82] Allocation of 791327184 exceeds 10% of free system memory.\n"
     ]
    },
    {
     "name": "stdout",
     "output_type": "stream",
     "text": [
      "3161/3161 [==============================] - 25s 8ms/step - loss: 1.3960\n",
      "Epoch 2/10\n",
      "3161/3161 [==============================] - 23s 7ms/step - loss: 1.3876\n",
      "Epoch 3/10\n",
      "3161/3161 [==============================] - 24s 8ms/step - loss: 1.3876\n",
      "Epoch 4/10\n",
      "3161/3161 [==============================] - 24s 8ms/step - loss: 1.3875\n",
      "Epoch 5/10\n",
      "3161/3161 [==============================] - 25s 8ms/step - loss: 1.3877\n",
      "Epoch 6/10\n",
      "3161/3161 [==============================] - 22s 7ms/step - loss: 1.3875\n",
      "Epoch 7/10\n",
      "3161/3161 [==============================] - 25s 8ms/step - loss: 1.3876\n",
      "Epoch 8/10\n",
      "3161/3161 [==============================] - 25s 8ms/step - loss: 1.3875\n",
      "Epoch 9/10\n",
      "3161/3161 [==============================] - 26s 8ms/step - loss: 1.3875\n",
      "Epoch 10/10\n",
      "3161/3161 [==============================] - 23s 7ms/step - loss: 1.3875\n"
     ]
    }
   ],
   "source": [
    "import tensorflow as tf\n",
    "\n",
    "# Define the input shape\n",
    "input_shape = (953,)\n",
    "\n",
    "# Define the model architecture\n",
    "model = tf.keras.Sequential([\n",
    "    tf.keras.layers.Dense(256, activation='linear', input_shape=input_shape),\n",
    "    tf.keras.layers.Dropout(0.5),\n",
    "    tf.keras.layers.Dense(128, activation='relu'),\n",
    "    tf.keras.layers.Dropout(0.5),\n",
    "    tf.keras.layers.Dense(128, activation='linear'),\n",
    "    tf.keras.layers.Dropout(0.5),\n",
    "    tf.keras.layers.Dropout(0.5),\n",
    "    tf.keras.layers.Dense(128, activation='relu'),\n",
    "    tf.keras.layers.Dropout(0.5),\n",
    "    tf.keras.layers.Dense(128, activation='linear'),\n",
    "    tf.keras.layers.Dropout(0.5),\n",
    "    tf.keras.layers.Dense(978)\n",
    "])\n",
    "\n",
    "# Compile the model\n",
    "model.compile(optimizer='adam', loss='mse')\n",
    "\n",
    "# Train the model on your data\n",
    "clear_output()\n",
    "model.fit(x_train, y_train, epochs=10)\n",
    "\n",
    "model.save('my_model.h5')"
   ]
  },
  {
   "cell_type": "code",
   "execution_count": 18,
   "id": "029c9cb8-2f60-46bc-a74f-5d6797051677",
   "metadata": {},
   "outputs": [
    {
     "name": "stdout",
     "output_type": "stream",
     "text": [
      " 28/791 [>.............................] - ETA: 1s  "
     ]
    },
    {
     "name": "stderr",
     "output_type": "stream",
     "text": [
      "2023-03-19 14:19:52.607495: W tensorflow/tsl/framework/cpu_allocator_impl.cc:82] Allocation of 192780464 exceeds 10% of free system memory.\n"
     ]
    },
    {
     "name": "stdout",
     "output_type": "stream",
     "text": [
      "791/791 [==============================] - 3s 3ms/step\n",
      "R^2 score: -0.00013233869256119502\n",
      "Mean Squared Error: 1.3736031080900137\n"
     ]
    }
   ],
   "source": [
    "# predict on test data\n",
    "y_pred = model.predict(x_test)\n",
    "\n",
    "# evaluate performance\n",
    "from sklearn.metrics import r2_score, mean_squared_error\n",
    "\n",
    "r2 = r2_score(y_test, y_pred)\n",
    "mse = mean_squared_error(y_test, y_pred)\n",
    "\n",
    "print('R^2 score:', r2)\n",
    "print('Mean Squared Error:', mse)"
   ]
  },
  {
   "cell_type": "code",
   "execution_count": 19,
   "id": "933af386-4932-466c-9e51-9667af5efdc0",
   "metadata": {},
   "outputs": [
    {
     "data": {
      "image/png": "[encoded data removed]",
      "text/plain": [
       "<Figure size 640x480 with 1 Axes>"
      ]
     },
     "metadata": {},
     "output_type": "display_data"
    }
   ],
   "source": [
    "import matplotlib.pyplot as plt\n",
    "\n",
    "plt.scatter(y_test, y_pred)\n",
    "plt.xlabel('True Values')\n",
    "plt.ylabel('Predictions')\n",
    "plt.show()"
   ]
  },
  {
   "cell_type": "code",
   "execution_count": null,
   "id": "c689ffd9-77b2-40c3-a45d-1ff1d4be7bb5",
   "metadata": {},
   "outputs": [],
   "source": [
    "# Load and Predict "
   ]
  },
  {
   "cell_type": "code",
   "execution_count": null,
   "id": "f07e259e-60f5-47dd-a4bd-6c798bee4165",
   "metadata": {},
   "outputs": [],
   "source": [
    "from tensorflow.keras.models import load_model\n",
    "\n",
    "model = load_model('my_model.h5')"
   ]
  },
  {
   "cell_type": "code",
   "execution_count": 7,
   "id": "89fa95f0-5fc6-4292-b12c-6380bac51a19",
   "metadata": {
    "tags": []
   },
   "outputs": [],
   "source": [
    "# Create a way to generate entrance\n",
    "df2 = pd.read_csv(\"X-Cell_line_OneHotEncoder.csv\")\n",
    "df2 = df2.drop(df2.columns[0], axis=1)"
   ]
  },
  {
   "cell_type": "code",
   "execution_count": 12,
   "id": "291c0d73-5368-4fad-9093-ae09b2dacc82",
   "metadata": {},
   "outputs": [],
   "source": [
    "# Lineas celulares para la simulación de prueba\n",
    "# ['A375', 'A549', 'A673', 'AGS', 'ASC', 'BT20', 'CD34', 'CL34', 'CORL23', 'COV644', 'DV90', 'EFO27', 'FIBRNPC', 'H1299', 'HA1E', 'HCC15', 'HCC515',\n",
    "#  'HCT116', 'HEC108', 'HEK293T', 'HEPG2', 'HL60', 'HS27A', 'HS578T', 'HT115', 'HT29', 'HUH7', 'JHUEM2', 'JURKAT', 'LOVO', 'MCF10A', 'MCF7', 'MDAMB231',\n",
    "#  'MDST8', 'NCIH1694', 'NCIH1836', 'NCIH2073', 'NCIH508', 'NCIH596', 'NEU', 'NKDBA', 'NOMO1', 'NPC', 'OV7', 'PC3', 'PHH', 'PL21', 'RKO', 'RMGI', 'RMUGS',\n",
    "#  'SKB', 'SKBR3', 'SKLU1', 'SKM1', 'SKMEL1', 'SKMEL28', 'SNGM', 'SNU1040', 'SNUC4', 'SNUC5', 'SW480', 'SW620', 'SW948', 'T3M10', 'THP1', 'TYKNU', 'U266',\n",
    "#  'U937', 'VCAP', 'WSUDLCL2'],"
   ]
  },
  {
   "cell_type": "code",
   "execution_count": 8,
   "id": "0dba956c-7dda-4d72-b6e4-bf54b954d6ae",
   "metadata": {},
   "outputs": [],
   "source": [
    "# Molécula en formato smiles\n",
    "smiles = 'CCN1CCCC[C@@H]1C(=O)N1C[C@H]2CCC[C@@H]2C1'\n",
    "\n",
    "# Concentración en uM\n",
    "uM_Concentration = 10\n",
    "\n",
    "# Tiempo en horas\n",
    "Hours = 24\n",
    "\n",
    "# Cell Line\n",
    "Cell_Line = str(\"WSUDLCL2\")"
   ]
  },
  {
   "cell_type": "code",
   "execution_count": 9,
   "id": "c642a7d6-115a-4d20-99dc-ea654d9bee0d",
   "metadata": {
    "tags": []
   },
   "outputs": [],
   "source": [
    "# Generación de entry\n",
    "selected_row = df2[df2['category'] == Cell_Line]\n",
    "values = selected_row.iloc[:, 1:72].values\n",
    "entry = pd.DataFrame(values, columns=selected_row.columns[1:72])\n",
    "\n",
    "entry['uM'] = uM_Concentration\n",
    "entry['Hr'] = Hours\n",
    "\n",
    "# convert smiles to RDKit molecule and create MF\n",
    "mol = Chem.MolFromSmiles(smiles)\n",
    "fp = AllChem.GetMorganFingerprintAsBitVect(mol, 2, nBits=881)\n",
    "\n",
    "# convert fingerprint to array\n",
    "fp_array = np.zeros((1,))\n",
    "AllChem.DataStructs.ConvertToNumpyArray(fp, fp_array)\n",
    "\n",
    "# create DataFrame with 1 row and 880 columns\n",
    "fp_df = pd.DataFrame(fp_array.reshape(1, -1))\n",
    "entry = pd.concat([entry, fp_df], axis=1)"
   ]
  },
  {
   "cell_type": "code",
   "execution_count": 40,
   "id": "7da7663f-788d-44a9-af09-48312299f26c",
   "metadata": {},
   "outputs": [
    {
     "name": "stdout",
     "output_type": "stream",
     "text": [
      "1/1 [==============================] - 0s 48ms/step\n"
     ]
    }
   ],
   "source": [
    "# predict on test data\n",
    "y_pred = model.predict(entry)\n",
    "y_pred_1 = pd.DataFrame(y_pred.reshape(1, -1))\n",
    "y_pred_2 = y_pred_1.iloc[:, :784]\n",
    "y_pred_3 = y_pred_2[:784].values"
   ]
  },
  {
   "cell_type": "code",
   "execution_count": 45,
   "id": "888ce145-8d32-41a5-8500-daba4fd1486e",
   "metadata": {},
   "outputs": [
    {
     "data": {
      "image/png": "[encoded data removed]",
      "text/plain": [
       "<Figure size 640x480 with 2 Axes>"
      ]
     },
     "metadata": {},
     "output_type": "display_data"
    }
   ],
   "source": [
    "import numpy as np\n",
    "import matplotlib.pyplot as plt\n",
    "\n",
    "# Assuming you have an array called 'data' of shape (978, 1)\n",
    "# Reshape it to a 31x32 matrix\n",
    "data_matrix = np.reshape(y_pred_3, (28, 28))\n",
    "\n",
    "# Create a heatmap of the data matrix\n",
    "plt.imshow(data_matrix, cmap='coolwarm', vmin=-0.6, vmax=0.6, interpolation='nearest')\n",
    "plt.colorbar()\n",
    "plt.title(\"Gene Perturbation\")\n",
    "plt.show()"
   ]
  }
 ],
 "metadata": {
  "kernelspec": {
   "display_name": "Python 3 (ipykernel)",
   "language": "python",
   "name": "python3"
  },
  "language_info": {
   "codemirror_mode": {
    "name": "ipython",
    "version": 3
   },
   "file_extension": ".py",
   "mimetype": "text/x-python",
   "name": "python",
   "nbconvert_exporter": "python",
   "pygments_lexer": "ipython3",
   "version": "3.9.13"
  }
 },
 "nbformat": 4,
 "nbformat_minor": 5
}
